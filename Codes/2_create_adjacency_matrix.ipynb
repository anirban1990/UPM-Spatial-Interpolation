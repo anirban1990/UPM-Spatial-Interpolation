{
 "cells": [
  {
   "cell_type": "code",
   "execution_count": 1,
   "metadata": {},
   "outputs": [],
   "source": [
    "import pandas as pd\n",
    "from scipy.spatial import distance\n",
    "import numpy as np\n"
   ]
  },
  {
   "cell_type": "code",
   "execution_count": 2,
   "metadata": {},
   "outputs": [],
   "source": [
    "# create adjacency matrix of 0s and 1s based on a Distance matrix \n",
    "# Distance matrix is generated from site locations (X and Y)\n",
    "# Threshold distance should be set such that there is minimum 1 neighbor at each site \n",
    "\n",
    "\n",
    "#load the sample_dataset.csv file\n",
    "df = pd.read_csv('sample_dataset.csv',sep=',',usecols=['X','Y'])\n",
    "N=df.shape[0]\n",
    "xyz = df.to_numpy()\n",
    "\n",
    "#Choose a threshold value\n",
    "threshold = 1.1\n",
    "\n",
    "# distance matrix\n",
    "dist = distance.cdist(xyz,xyz,'euclidean')\n",
    "\n",
    "# ignore diagonal values\n",
    "np.fill_diagonal(dist, np.nan)\n",
    "\n",
    "# extract i,j pairs where distance < threshold\n",
    "paires = np.argwhere(dist<=threshold)\n",
    "\n",
    "# groupby index\n",
    "tmp = np.unique(paires[:, 0], return_index=True)\n",
    "adj = np.split(paires[:,1], tmp[1])[1:]\n",
    "adj = np.array(adj,dtype=object)\n",
    "\n",
    "for i in range(len(adj)):\n",
    "    for j in range(len(adj[i])):\n",
    "        adj[i][j] = adj[i][j]  \n",
    "\n",
    "adj_matrix = np.zeros((N, N), dtype=\"int32\")\n",
    "for area in range(N):\n",
    "    adj_matrix[area, adj[area]] = 1\n"
   ]
  },
  {
   "cell_type": "code",
   "execution_count": 3,
   "metadata": {},
   "outputs": [],
   "source": [
    "#save adjacency matrix as a .csv file\n",
    "\n",
    "df = pd.DataFrame(adj_matrix)\n",
    "df.to_csv(\"adjacency_matrix.csv\", index=False,header=False)"
   ]
  }
 ],
 "metadata": {
  "kernelspec": {
   "display_name": "Python 3",
   "language": "python",
   "name": "python3"
  },
  "language_info": {
   "codemirror_mode": {
    "name": "ipython",
    "version": 3
   },
   "file_extension": ".py",
   "mimetype": "text/x-python",
   "name": "python",
   "nbconvert_exporter": "python",
   "pygments_lexer": "ipython3",
   "version": "3.9.18"
  },
  "orig_nbformat": 4,
  "vscode": {
   "interpreter": {
    "hash": "397704579725e15f5c7cb49fe5f0341eb7531c82d19f2c29d197e8b64ab5776b"
   }
  }
 },
 "nbformat": 4,
 "nbformat_minor": 2
}
